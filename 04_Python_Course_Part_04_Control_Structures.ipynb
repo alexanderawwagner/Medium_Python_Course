{
 "cells": [
  {
   "cell_type": "markdown",
   "metadata": {},
   "source": [
    "# Medium Python Course-Part 04\n",
    "Control Structures"
   ]
  },
  {
   "cell_type": "code",
   "execution_count": null,
   "metadata": {},
   "outputs": [],
   "source": []
  },
  {
   "cell_type": "markdown",
   "metadata": {},
   "source": [
    "A program is a sequence of many instructions. The sequential processing of these instructions is controlled by some control flow structures such as loops and conditional statements."
   ]
  },
  {
   "cell_type": "code",
   "execution_count": null,
   "metadata": {},
   "outputs": [],
   "source": []
  },
  {
   "cell_type": "markdown",
   "metadata": {},
   "source": [
    "# Conditional Statements"
   ]
  },
  {
   "cell_type": "markdown",
   "metadata": {},
   "source": [
    "Conditional statements are used to perform different actions depending on whether a condition evaluates to true or false."
   ]
  },
  {
   "cell_type": "markdown",
   "metadata": {},
   "source": [
    "## If-Statement"
   ]
  },
  {
   "cell_type": "markdown",
   "metadata": {},
   "source": [
    "Python if Statement is used for decision-making operations.The conditional statement consists of a check if a certain condition is true. If this is the case, then a block of instructions is processed. Otherwise this block is ignored and the program continues with processing the code after the conditional block.\n",
    "\n",
    "\n",
    "syntax\n",
    "    \n",
    "    if expr:\n",
    "    \n",
    "        statement"
   ]
  },
  {
   "cell_type": "markdown",
   "metadata": {},
   "source": [
    "The following code  demonstrates the implementation of a  if-statement in Python. \n",
    "\n",
    "The elements are\n",
    "\n",
    "- the statement starts with the keyword if\n",
    "- he condition can be  complex, but it must evaluate to either True or False\n",
    "- after the condition, a colon : indicates the end of the checking-line\n",
    "- the following indented block is processed only if the condition is True"
   ]
  },
  {
   "cell_type": "code",
   "execution_count": 30,
   "metadata": {},
   "outputs": [],
   "source": [
    "paymentOpt=['cash','checks','debit cards','credit cards','mobile payments','electronic bank transfers']\n",
    "customer1={'firstname':'Max','lastname':'Power','gender':'male','age':17,'sales':1}\n",
    "customer2={'firstname':'Jane','lastname':'Doe','gender':'female','age':45,'sales':8}"
   ]
  },
  {
   "cell_type": "code",
   "execution_count": 38,
   "metadata": {},
   "outputs": [
    {
     "name": "stdout",
     "output_type": "stream",
     "text": [
      "The only available paymentoption for this customer is ['cash']\n"
     ]
    }
   ],
   "source": [
    "if customer2['age']<18:\n",
    "    print(\"Customer is under 18\")\n",
    "    paymentOpt=['cash']\n",
    "print(\"The only available paymentoption for this customer is\",paymentOpt)"
   ]
  },
  {
   "cell_type": "code",
   "execution_count": 37,
   "metadata": {},
   "outputs": [
    {
     "name": "stdout",
     "output_type": "stream",
     "text": [
      "Customer is under 18\n",
      "The only available paymentoption for this customer is ['cash']\n"
     ]
    }
   ],
   "source": [
    "if customer1['age']<18:\n",
    "    print(\"Customer is under 18\")\n",
    "    paymentOpt=['cash']\n",
    "print(\"The only available paymentoption for this customer is\",paymentOpt)"
   ]
  },
  {
   "cell_type": "code",
   "execution_count": null,
   "metadata": {},
   "outputs": [],
   "source": []
  },
  {
   "cell_type": "markdown",
   "metadata": {},
   "source": [
    "### If-Else Statement "
   ]
  },
  {
   "cell_type": "markdown",
   "metadata": {},
   "source": [
    "The instructions within the if block are processed, only if the condition is True. In the case that some instructions shall be performed if a condition is true and other instructions shall be performed if and only if the condition is False.\n",
    "\n",
    "syntax\n",
    "    \n",
    "    if expr:\n",
    "    \n",
    "        statement\n",
    "        \n",
    "    else:\n",
    "    \n",
    "        statement"
   ]
  },
  {
   "cell_type": "code",
   "execution_count": 36,
   "metadata": {
    "scrolled": true
   },
   "outputs": [
    {
     "name": "stdout",
     "output_type": "stream",
     "text": [
      "Customer is under 18\n",
      "The only available paymentoption for this customer is ['cash']\n"
     ]
    }
   ],
   "source": [
    "if customer1['age']<18:\n",
    "    print(\"Customer is under 18\")\n",
    "    paymentOpt=['cash']\n",
    "else:\n",
    "    paymentOpt=['cash','checks','debit cards','credit cards','mobile payments','electronic bank transfers']\n",
    "print(\"The only available paymentoption for this customer is\",paymentOpt)"
   ]
  },
  {
   "cell_type": "code",
   "execution_count": null,
   "metadata": {},
   "outputs": [],
   "source": []
  },
  {
   "cell_type": "code",
   "execution_count": 91,
   "metadata": {},
   "outputs": [
    {
     "name": "stdout",
     "output_type": "stream",
     "text": [
      "The only available paymentoption for this customer is ['cash', 'checks', 'debit cards', 'credit cards', 'mobile payments', 'electronic bank transfers']\n"
     ]
    }
   ],
   "source": [
    "if customer2['age']<18:\n",
    "    print(\"Customer is under 18\")\n",
    "    paymentOpt=['cash']\n",
    "else:\n",
    "    paymentOpt=['cash','checks','debit cards','credit cards','mobile payments','electronic bank transfers']\n",
    "print(\"The only available paymentoption for this customer is\",paymentOpt)"
   ]
  },
  {
   "cell_type": "code",
   "execution_count": null,
   "metadata": {},
   "outputs": [],
   "source": []
  },
  {
   "cell_type": "markdown",
   "metadata": {},
   "source": [
    " ### If-elif-else-Statement"
   ]
  },
  {
   "cell_type": "markdown",
   "metadata": {},
   "source": [
    "In the case that more than two options shall be distinguished, Python provides else if (elseif) as a further option in an if-statement. The condition after the elif-keyword is tested if the previous condition-test/tests have been False. If the condition after an elif-block is True the following instructions within this elif-block are processed, otherwise this block is ignored. It is possible to integrate more than one elif-blocks within a conditional statement. The instructions within the optional else-block after the elif-blocks are processed only if all previous conditions have been False."
   ]
  },
  {
   "cell_type": "markdown",
   "metadata": {},
   "source": [
    "syntax\n",
    "\n",
    "if expr:\n",
    "    statement\n",
    "if else expr:\n",
    "    statement\n",
    "if else expr:\n",
    "    statement\n",
    "...\n",
    "else:\n",
    "    statement\n"
   ]
  },
  {
   "cell_type": "code",
   "execution_count": 35,
   "metadata": {},
   "outputs": [
    {
     "name": "stdout",
     "output_type": "stream",
     "text": [
      "Weak customer sales\n",
      "The only available paymentoption for this customer is ['cash', 'checks', 'debit cards', 'credit cards', 'mobile payments', 'electronic bank transfers']\n"
     ]
    }
   ],
   "source": [
    "if customer2['age']<18:\n",
    "    print(\"Customer is under 18\")\n",
    "    paymentOpt=['cash']\n",
    "elif customer2['sales']<10:\n",
    "    print(\"Weak customer sales\")\n",
    "else:\n",
    "    paymentOpt=['cash','checks','debit cards','credit cards','mobile payments','electronic bank transfers']\n",
    "print(\"The only available paymentoption for this customer is\",paymentOpt)"
   ]
  },
  {
   "cell_type": "code",
   "execution_count": null,
   "metadata": {},
   "outputs": [],
   "source": []
  },
  {
   "cell_type": "markdown",
   "metadata": {},
   "source": [
    "## Conditional Expressions"
   ]
  },
  {
   "cell_type": "markdown",
   "metadata": {},
   "source": [
    "A simple form of conditional processing set assigns a different value to a variable, depending on the truth value of a condition:\n",
    "\n",
    "if expr:\n",
    "    x=y\n",
    "else:\n",
    "    x=z"
   ]
  },
  {
   "cell_type": "code",
   "execution_count": 101,
   "metadata": {},
   "outputs": [
    {
     "name": "stdout",
     "output_type": "stream",
     "text": [
      "{'firstname': 'Max', 'lastname': 'Power', 'gender': 'male', 'age': 17, 'sales': 1}\n",
      "Customer is under 18\n",
      "The only available paymentoption for this customer is ['cash']\n"
     ]
    }
   ],
   "source": [
    "print(customer1)\n",
    "if customer1['age']<18:\n",
    "    print(\"Customer is under 18\")\n",
    "    paymentOpt=(['cash'] if customer1['age']<18 else ['cash','checks','debit cards','credit cards','mobile payments','electronic bank transfers'])\n",
    "print(\"The only available paymentoption for this customer is\",paymentOpt)"
   ]
  },
  {
   "cell_type": "code",
   "execution_count": null,
   "metadata": {},
   "outputs": [],
   "source": []
  },
  {
   "cell_type": "markdown",
   "metadata": {},
   "source": [
    "# Loops"
   ]
  },
  {
   "cell_type": "markdown",
   "metadata": {},
   "source": [
    "Loops are applied if a block of instructions must be calculated repeatedly. The repeated processing of the block can either be terminated if a certain condition becomes False or if a defined number of iterations has been reached."
   ]
  },
  {
   "cell_type": "code",
   "execution_count": null,
   "metadata": {},
   "outputs": [],
   "source": []
  },
  {
   "cell_type": "markdown",
   "metadata": {},
   "source": [
    "## For Loop"
   ]
  },
  {
   "cell_type": "markdown",
   "metadata": {},
   "source": [
    "For loops process a sequence of instructions multiple times. The number of iterations is given by the number of elements in the sequence over which the loop variable iterates. \n",
    "\n",
    "The syntax of a basic for loop is:\n",
    "\n",
    "    for variable in Sequence:\n",
    "        statement\n"
   ]
  },
  {
   "cell_type": "markdown",
   "metadata": {},
   "source": [
    "### Basic For Loop"
   ]
  },
  {
   "cell_type": "markdown",
   "metadata": {},
   "source": [
    "The following example implements a basic for loop. The loop iterates over the integers in the integer list range(5). In each iteration the integer value is printed."
   ]
  },
  {
   "cell_type": "code",
   "execution_count": 61,
   "metadata": {},
   "outputs": [
    {
     "name": "stdout",
     "output_type": "stream",
     "text": [
      "Value: 0\n",
      "Value: 1\n",
      "Value: 2\n",
      "Value: 3\n",
      "Value: 4\n"
     ]
    }
   ],
   "source": [
    "numbers=range(5)\n",
    "for i in numbers:\n",
    "    print(\"Value:\", i)"
   ]
  },
  {
   "cell_type": "markdown",
   "metadata": {},
   "source": [
    "### For Loop break continue and else"
   ]
  },
  {
   "cell_type": "markdown",
   "metadata": {},
   "source": [
    "The keywords break, continue and else can be applied for for loops in the same manner as for while loops. Break is used to exit a loop , where continue is used to skip the current block, and return to the statement.\n",
    "\n",
    "    for variable in Sequence:\n",
    "        Block of instructions 1\n",
    "        if condition 2:\n",
    "            Block of instructions 2\n",
    "            continue\n",
    "        Block of instructions 3\n",
    "        if condition 3:\n",
    "            Block of instructions 4\n",
    "            break\n",
    "        Block of instructions 5\n",
    "    else:\n",
    "        Block of instructions 6"
   ]
  },
  {
   "cell_type": "code",
   "execution_count": 68,
   "metadata": {},
   "outputs": [
    {
     "name": "stdout",
     "output_type": "stream",
     "text": [
      "Value:  1\n",
      "Value:  2\n",
      "Value:  4\n"
     ]
    }
   ],
   "source": [
    "for i in numbers:\n",
    "    # check if x is even\n",
    "    if i % 3 == 0:\n",
    "        continue\n",
    "    print(\"Value: \",i)"
   ]
  },
  {
   "cell_type": "code",
   "execution_count": 69,
   "metadata": {},
   "outputs": [
    {
     "name": "stdout",
     "output_type": "stream",
     "text": [
      "Value:  0\n",
      "Value:  1\n",
      "Value:  2\n",
      "Value:  3\n",
      "Value:  4\n"
     ]
    }
   ],
   "source": [
    "count = 0\n",
    "while True:\n",
    "    print(\"Value: \", count)\n",
    "    count += 1\n",
    "    if count >= 5:\n",
    "        break"
   ]
  },
  {
   "cell_type": "code",
   "execution_count": null,
   "metadata": {},
   "outputs": [],
   "source": []
  },
  {
   "cell_type": "markdown",
   "metadata": {},
   "source": [
    "### Iterating through a list"
   ]
  },
  {
   "cell_type": "code",
   "execution_count": 84,
   "metadata": {},
   "outputs": [
    {
     "name": "stdout",
     "output_type": "stream",
     "text": [
      "<class 'list'>\n",
      "a\n",
      "b\n",
      "c\n"
     ]
    }
   ],
   "source": [
    "l = ['a', 'b', 'c']\n",
    "print(type(l))\n",
    "for i in l:\n",
    "    print(i)"
   ]
  },
  {
   "cell_type": "code",
   "execution_count": null,
   "metadata": {},
   "outputs": [],
   "source": []
  },
  {
   "cell_type": "markdown",
   "metadata": {},
   "source": [
    "### Iterating through a Dictionary"
   ]
  },
  {
   "cell_type": "code",
   "execution_count": 85,
   "metadata": {
    "scrolled": true
   },
   "outputs": [
    {
     "name": "stdout",
     "output_type": "stream",
     "text": [
      "<class 'dict'>\n",
      "a\n",
      "b\n",
      "c\n"
     ]
    }
   ],
   "source": [
    "dic = {'a': 1, 'b': 2, 'c': 3}\n",
    "print(type(dic))\n",
    "for i in dic:\n",
    "    print(i)"
   ]
  },
  {
   "cell_type": "code",
   "execution_count": 90,
   "metadata": {},
   "outputs": [
    {
     "name": "stdout",
     "output_type": "stream",
     "text": [
      "a\n",
      "b\n",
      "c\n"
     ]
    }
   ],
   "source": [
    "for i in dic.keys():\n",
    "    print(i)"
   ]
  },
  {
   "cell_type": "code",
   "execution_count": null,
   "metadata": {},
   "outputs": [],
   "source": []
  },
  {
   "cell_type": "code",
   "execution_count": 87,
   "metadata": {},
   "outputs": [
    {
     "name": "stdout",
     "output_type": "stream",
     "text": [
      "1\n",
      "2\n",
      "3\n"
     ]
    }
   ],
   "source": [
    "for i in dic:\n",
    "    print(dic[i])"
   ]
  },
  {
   "cell_type": "code",
   "execution_count": null,
   "metadata": {},
   "outputs": [],
   "source": []
  },
  {
   "cell_type": "code",
   "execution_count": 88,
   "metadata": {},
   "outputs": [
    {
     "name": "stdout",
     "output_type": "stream",
     "text": [
      "1\n",
      "2\n",
      "3\n"
     ]
    }
   ],
   "source": [
    "for i in dic.values():\n",
    "    print(i)"
   ]
  },
  {
   "cell_type": "code",
   "execution_count": null,
   "metadata": {},
   "outputs": [],
   "source": []
  },
  {
   "cell_type": "markdown",
   "metadata": {},
   "source": [
    "## List comprehension"
   ]
  },
  {
   "cell_type": "markdown",
   "metadata": {},
   "source": [
    "Python supports the functional programming paradigm. Functional programming languages provide methods that allow a very efficient implementation of tasks, which are typically solved by loops."
   ]
  },
  {
   "cell_type": "markdown",
   "metadata": {},
   "source": [
    "List comprehensions create in only a single command a list of elements , where each element in this list is calculated by applying a unique function to each element of another list . The general form of a list comprehension is \n",
    "\n",
    "outputlist = [ somefunction(i) for i in inputlist]\n"
   ]
  },
  {
   "cell_type": "code",
   "execution_count": 77,
   "metadata": {},
   "outputs": [
    {
     "name": "stdout",
     "output_type": "stream",
     "text": [
      "Value with List comprehension:  [0, 1, 4, 9, 16, 25, 36, 49, 64, 81]\n"
     ]
    }
   ],
   "source": [
    "sList = [i * i for i in range(10)]\n",
    "print(\"Value with List comprehension: \", sList)"
   ]
  },
  {
   "cell_type": "code",
   "execution_count": null,
   "metadata": {},
   "outputs": [],
   "source": []
  },
  {
   "cell_type": "markdown",
   "metadata": {},
   "source": [
    "Or you can use a for loop to create a list of elements."
   ]
  },
  {
   "cell_type": "code",
   "execution_count": 78,
   "metadata": {},
   "outputs": [
    {
     "name": "stdout",
     "output_type": "stream",
     "text": [
      "Value with for loop:  [0, 1, 4, 9, 16, 25, 36, 49, 64, 81]\n"
     ]
    }
   ],
   "source": [
    "s = []\n",
    "for i in range(10):\n",
    "    s.append(i * i)\n",
    "print(\"Value with for loop: \", s)"
   ]
  },
  {
   "cell_type": "code",
   "execution_count": null,
   "metadata": {},
   "outputs": [],
   "source": []
  },
  {
   "cell_type": "code",
   "execution_count": null,
   "metadata": {},
   "outputs": [],
   "source": []
  },
  {
   "cell_type": "markdown",
   "metadata": {},
   "source": [
    "## While Loop"
   ]
  },
  {
   "cell_type": "markdown",
   "metadata": {},
   "source": [
    "In a while loop a condition is checked at the beginning of each iteration. If the condition is True the block of instructions inside the while loop is executed. As soon as the condition evaluates to False the loop terminates and the program continues with the instructions after the while loop.\n",
    "\n",
    "\n",
    "Syntax\n",
    "while expr:\n",
    "    statement\n",
    "    "
   ]
  },
  {
   "cell_type": "code",
   "execution_count": 58,
   "metadata": {},
   "outputs": [
    {
     "name": "stdout",
     "output_type": "stream",
     "text": [
      "Random number is: 0\n",
      "Random number is: 8\n",
      "Line after While Loop\n"
     ]
    }
   ],
   "source": [
    "from numpy import random\n",
    "n=0\n",
    "while n < 5:\n",
    "    n=random.randint(10)\n",
    "    print(\"Random number is:\", n)\n",
    "print(\"Line after While Loop\")"
   ]
  },
  {
   "cell_type": "code",
   "execution_count": null,
   "metadata": {},
   "outputs": [],
   "source": []
  },
  {
   "cell_type": "code",
   "execution_count": null,
   "metadata": {},
   "outputs": [],
   "source": []
  },
  {
   "cell_type": "code",
   "execution_count": null,
   "metadata": {},
   "outputs": [],
   "source": []
  },
  {
   "cell_type": "code",
   "execution_count": null,
   "metadata": {},
   "outputs": [],
   "source": []
  }
 ],
 "metadata": {
  "kernelspec": {
   "display_name": "Python 3",
   "language": "python",
   "name": "python3"
  },
  "language_info": {
   "codemirror_mode": {
    "name": "ipython",
    "version": 3
   },
   "file_extension": ".py",
   "mimetype": "text/x-python",
   "name": "python",
   "nbconvert_exporter": "python",
   "pygments_lexer": "ipython3",
   "version": "3.8.3"
  },
  "toc": {
   "base_numbering": 1,
   "nav_menu": {},
   "number_sections": true,
   "sideBar": true,
   "skip_h1_title": false,
   "title_cell": "Table of Contents",
   "title_sidebar": "Contents",
   "toc_cell": false,
   "toc_position": {},
   "toc_section_display": true,
   "toc_window_display": false
  }
 },
 "nbformat": 4,
 "nbformat_minor": 4
}
