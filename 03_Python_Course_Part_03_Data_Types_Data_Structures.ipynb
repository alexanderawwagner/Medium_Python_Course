{
 "cells": [
  {
   "cell_type": "markdown",
   "metadata": {},
   "source": [
    "# Medium Python Course-Part 03\n",
    "Data Types | Data Structures"
   ]
  },
  {
   "cell_type": "code",
   "execution_count": null,
   "metadata": {},
   "outputs": [],
   "source": []
  },
  {
   "cell_type": "markdown",
   "metadata": {},
   "source": [
    "Python is a dynamically typed programming language. This means that it is not necessary to explicitly define a type of a variable. In Python the type of the variable is inferred automatically as soon as a value is assigned to the variable."
   ]
  },
  {
   "cell_type": "markdown",
   "metadata": {},
   "source": [
    "# Numerical Data Types"
   ]
  },
  {
   "cell_type": "markdown",
   "metadata": {},
   "source": [
    "In Python numerical data types are:\n",
    "* integers: int and long \n",
    "* point numbers: float\n",
    "* booleans numbers: bool\n",
    "* complex numbers: complex"
   ]
  },
  {
   "cell_type": "code",
   "execution_count": 3,
   "metadata": {},
   "outputs": [
    {
     "name": "stdout",
     "output_type": "stream",
     "text": [
      "<class 'int'>\n",
      "<class 'float'>\n",
      "<class 'bool'>\n",
      "<class 'complex'>\n"
     ]
    }
   ],
   "source": [
    "x=5 \n",
    "print(type(x)) #x is of type int, because an integer has been assigned to it\n",
    "x= 3.8\n",
    "print(type(x)) #now x is of type float, because a floating-number has been assigned to it\n",
    "x= True\n",
    "print(type(x)) #now x is of type bool, because a boolean has been assigned to it\n",
    "x= (3 + 6j)\n",
    "print(type(x)) #now x is of type complex, because a complex number has been assigned to it"
   ]
  },
  {
   "cell_type": "code",
   "execution_count": null,
   "metadata": {},
   "outputs": [],
   "source": []
  },
  {
   "cell_type": "markdown",
   "metadata": {},
   "source": [
    "## Arithmetic Operations"
   ]
  },
  {
   "cell_type": "markdown",
   "metadata": {},
   "source": [
    "Arithmetic operations are:\n",
    "* Negation: -x\n",
    "* Addition: x+y\n",
    "* Subtraction: x-y\n",
    "* Multiplication: x*y\n",
    "* Division: x/y\n",
    "* Power: x**y\n",
    "* Remainder of integer division: x%y\n",
    "* Integer division: x//y\n"
   ]
  },
  {
   "cell_type": "code",
   "execution_count": 7,
   "metadata": {},
   "outputs": [
    {
     "name": "stdout",
     "output_type": "stream",
     "text": [
      "Variable x:  7\n",
      "Variable y:  3\n",
      "Negation -x:  -7\n",
      "Addition x+y:  10\n",
      "Subtraction x-y:  4\n",
      "Multiplication x*y: 21\n",
      "Division x/y: 2.3333333333333335\n",
      "Power x**y: 343\n",
      "Remainder of integer division x%y: 1\n",
      "Integer division x//y: 2\n"
     ]
    }
   ],
   "source": [
    "x=7\n",
    "print(\"Variable x: \",x)\n",
    "\n",
    "y=3\n",
    "print(\"Variable y: \",y)\n",
    "\n",
    "a=-x\n",
    "print(\"Negation -x: \",a)\n",
    "\n",
    "b=x+y\n",
    "print(\"Addition x+y: \",b)\n",
    "\n",
    "c=x-y\n",
    "print(\"Subtraction x-y: \",c)\n",
    "\n",
    "d=x*y\n",
    "print(\"Multiplication x*y:\",d)\n",
    "\n",
    "e=x/y\n",
    "print(\"Division x/y:\",e)\n",
    "\n",
    "f=x**y\n",
    "print(\"Power x**y:\",f)\n",
    "\n",
    "g=x%y\n",
    "print(\"Remainder of integer division x%y:\",g)\n",
    "\n",
    "h=x//y\n",
    "print(\"Integer division x//y:\",h)"
   ]
  },
  {
   "cell_type": "code",
   "execution_count": null,
   "metadata": {},
   "outputs": [],
   "source": []
  },
  {
   "cell_type": "markdown",
   "metadata": {},
   "source": [
    "## Comparison Operators\n",
    "For the data types int, long, float and boolean the following comparison-operators are defined:\n",
    "* '=='\tIf the values of two operands are equal, then the condition becomes true\n",
    "* '!='\tIf values of two operands are not equal, then condition becomes true\n",
    "* '>'\t    If the value of left operand is greater than the value of right operand, then condition becomes true\n",
    "* '<'\t    If the value of left operand is less than the value of right operand, then condition becomes true\n",
    "* '>='\tIf the value of left operand is greater than or equal to the value of right operand, then condition becomes true\n",
    "* '<='\tIf the value of left operand is less than or equal to the value of right operand, then condition becomes true"
   ]
  },
  {
   "cell_type": "code",
   "execution_count": 10,
   "metadata": {},
   "outputs": [
    {
     "name": "stdout",
     "output_type": "stream",
     "text": [
      "a==b: False\n",
      "a==d: True\n",
      "a!=d: False\n",
      "a<=d: True\n",
      "b>c : True\n",
      "c>d : False\n"
     ]
    }
   ],
   "source": [
    "a=4\n",
    "b=7.2\n",
    "c=-6.1\n",
    "d=4.0\n",
    "\n",
    "print(\"a==b: %s\"%(a==b))\n",
    "print(\"a==d: %s\"%(a==d))\n",
    "print(\"a!=d: %s\"%(a!=d))\n",
    "print(\"a<=d: %s\"%(a<=d))\n",
    "print(\"b>c : %s\"%(b>c))\n",
    "print(\"c>d : %s\"%(c>d))"
   ]
  },
  {
   "cell_type": "code",
   "execution_count": null,
   "metadata": {},
   "outputs": [],
   "source": []
  },
  {
   "cell_type": "markdown",
   "metadata": {},
   "source": [
    "## Boolean Types"
   ]
  },
  {
   "cell_type": "markdown",
   "metadata": {},
   "source": [
    "The boolean type belongs to the numeric types, all arithmetics operators can be applied to it. The value of a boolean variable can only be True (1) or False (0). In addition to the arithmetic operations for boolean, also the logical operators not , and (&) and or(|) are defined. "
   ]
  },
  {
   "cell_type": "code",
   "execution_count": 13,
   "metadata": {},
   "outputs": [
    {
     "name": "stdout",
     "output_type": "stream",
     "text": [
      "True\n",
      "False\n",
      "True\n"
     ]
    }
   ],
   "source": [
    "a=4\n",
    "b=7.2\n",
    "c=-6.1\n",
    "d=4.0\n",
    "\n",
    "ef = (a==b) or (a==d)\n",
    "print(ef)\n",
    "\n",
    "gh = (a==b) and (a==d)\n",
    "print(gh)\n",
    "print(not gh)"
   ]
  },
  {
   "cell_type": "code",
   "execution_count": 14,
   "metadata": {},
   "outputs": [
    {
     "name": "stdout",
     "output_type": "stream",
     "text": [
      "True\n",
      "False\n",
      "True\n"
     ]
    }
   ],
   "source": [
    "ef = (a==b) | (a==d)\n",
    "print(ef)\n",
    "\n",
    "gh = (a==b) & (a==d)\n",
    "print(gh)\n",
    "print(ef != gh)"
   ]
  },
  {
   "cell_type": "code",
   "execution_count": null,
   "metadata": {},
   "outputs": [],
   "source": []
  },
  {
   "cell_type": "markdown",
   "metadata": {},
   "source": [
    "## Cast Numeric Types"
   ]
  },
  {
   "cell_type": "markdown",
   "metadata": {},
   "source": [
    "The type of a variable x can be casted into a new one by typname(x)"
   ]
  },
  {
   "cell_type": "code",
   "execution_count": 21,
   "metadata": {},
   "outputs": [
    {
     "name": "stdout",
     "output_type": "stream",
     "text": [
      "Initial type of x: <class 'int'>\n",
      "Type after float cast: <class 'float'>\n"
     ]
    }
   ],
   "source": [
    "x=3\n",
    "print(\"Initial type of x: %s\"%type(x))\n",
    "x=float(x)\n",
    "print(\"Type after float cast: %s\"%type(x))\n"
   ]
  },
  {
   "cell_type": "code",
   "execution_count": null,
   "metadata": {},
   "outputs": [],
   "source": []
  },
  {
   "cell_type": "code",
   "execution_count": 22,
   "metadata": {},
   "outputs": [
    {
     "name": "stdout",
     "output_type": "stream",
     "text": [
      "Type after int declaration: <class 'int'>\n"
     ]
    }
   ],
   "source": [
    "x=3\n",
    "print(\"Type after int declaration: %s\"%type(x))"
   ]
  },
  {
   "cell_type": "code",
   "execution_count": null,
   "metadata": {},
   "outputs": [],
   "source": []
  },
  {
   "cell_type": "code",
   "execution_count": 24,
   "metadata": {},
   "outputs": [
    {
     "name": "stdout",
     "output_type": "stream",
     "text": [
      "Type after float declatation: <class 'float'>\n"
     ]
    }
   ],
   "source": [
    "x=3.9\n",
    "print(\"Type after float declatation: %s\"%type(x))\n"
   ]
  },
  {
   "cell_type": "code",
   "execution_count": null,
   "metadata": {},
   "outputs": [],
   "source": []
  },
  {
   "cell_type": "code",
   "execution_count": 26,
   "metadata": {},
   "outputs": [
    {
     "name": "stdout",
     "output_type": "stream",
     "text": [
      "Type after after int cast: <class 'int'>\n"
     ]
    }
   ],
   "source": [
    "x=int(x)\n",
    "print(\"Type after after int cast: %s\"%type(x))\n"
   ]
  },
  {
   "cell_type": "code",
   "execution_count": null,
   "metadata": {},
   "outputs": [],
   "source": []
  },
  {
   "cell_type": "code",
   "execution_count": 27,
   "metadata": {},
   "outputs": [
    {
     "name": "stdout",
     "output_type": "stream",
     "text": [
      "Type after boolean cast: <class 'bool'>\n"
     ]
    }
   ],
   "source": [
    "x = bool(x)\n",
    "print(\"Type after boolean cast: %s\"%type(x))"
   ]
  },
  {
   "cell_type": "code",
   "execution_count": null,
   "metadata": {},
   "outputs": [],
   "source": []
  },
  {
   "cell_type": "markdown",
   "metadata": {},
   "source": [
    "# Sequential Data Types"
   ]
  },
  {
   "cell_type": "markdown",
   "metadata": {},
   "source": [
    "Sequential Data Types in Python contain sequences of elements. The following types belong to the category of sequential data types:\n",
    "* string\n",
    "* tuple\n",
    "* list\n",
    "* xrange objects\n",
    "* buffer\n",
    "* bytearray\n",
    "\n"
   ]
  },
  {
   "cell_type": "markdown",
   "metadata": {},
   "source": []
  },
  {
   "cell_type": "code",
   "execution_count": null,
   "metadata": {},
   "outputs": [],
   "source": []
  },
  {
   "cell_type": "markdown",
   "metadata": {},
   "source": [
    "## String"
   ]
  },
  {
   "cell_type": "markdown",
   "metadata": {},
   "source": [
    "A string is a sequence of characters. Strings can be defined within single, double or triple quotes."
   ]
  },
  {
   "cell_type": "code",
   "execution_count": 32,
   "metadata": {},
   "outputs": [
    {
     "name": "stdout",
     "output_type": "stream",
     "text": [
      "my first string\n",
      "<class 'str'>\n"
     ]
    }
   ],
   "source": [
    "str1='my first string'\n",
    "print(str1)\n",
    "print(type(str1))"
   ]
  },
  {
   "cell_type": "code",
   "execution_count": null,
   "metadata": {},
   "outputs": [],
   "source": []
  },
  {
   "cell_type": "code",
   "execution_count": 33,
   "metadata": {},
   "outputs": [
    {
     "name": "stdout",
     "output_type": "stream",
     "text": [
      "my second string\n",
      "<class 'str'>\n"
     ]
    }
   ],
   "source": [
    "str2=\"my second string\"\n",
    "print(str2) \n",
    "print(type(str2))"
   ]
  },
  {
   "cell_type": "code",
   "execution_count": null,
   "metadata": {},
   "outputs": [],
   "source": []
  },
  {
   "cell_type": "code",
   "execution_count": 34,
   "metadata": {},
   "outputs": [
    {
     "name": "stdout",
     "output_type": "stream",
     "text": [
      "using triple quotes\n",
      "strings can be defined \n",
      "over multiple lines\n",
      "<class 'str'>\n"
     ]
    }
   ],
   "source": [
    "str3=\"\"\"using triple quotes\n",
    "strings can be defined \n",
    "over multiple lines\"\"\"\n",
    "print(str3)\n",
    "print(type(str3))"
   ]
  },
  {
   "cell_type": "code",
   "execution_count": null,
   "metadata": {},
   "outputs": [],
   "source": []
  },
  {
   "cell_type": "markdown",
   "metadata": {},
   "source": [
    "### Accessing string components"
   ]
  },
  {
   "cell_type": "markdown",
   "metadata": {},
   "source": [
    "The components of strings are characters. Each component of a string-variable can be accessed by his index or index range. In Python the first index of a data type, is always 0."
   ]
  },
  {
   "cell_type": "code",
   "execution_count": 45,
   "metadata": {},
   "outputs": [
    {
     "name": "stdout",
     "output_type": "stream",
     "text": [
      "First element of str1 is m\n"
     ]
    }
   ],
   "source": [
    "print(\"First element of str1 is %s\"%str1[0])"
   ]
  },
  {
   "cell_type": "code",
   "execution_count": null,
   "metadata": {},
   "outputs": [],
   "source": []
  },
  {
   "cell_type": "code",
   "execution_count": 46,
   "metadata": {},
   "outputs": [
    {
     "name": "stdout",
     "output_type": "stream",
     "text": [
      "The first 2 elements of str1 are: my\n"
     ]
    }
   ],
   "source": [
    "print(\"The first 2 elements of str1 are: %s\"%str1[:2])"
   ]
  },
  {
   "cell_type": "code",
   "execution_count": null,
   "metadata": {},
   "outputs": [],
   "source": []
  },
  {
   "cell_type": "code",
   "execution_count": 47,
   "metadata": {},
   "outputs": [
    {
     "name": "stdout",
     "output_type": "stream",
     "text": [
      "The subsequence containing the 3rd, 4th, 5th, 6th, 7th an 8th element of s3 are:  first\n"
     ]
    }
   ],
   "source": [
    "print(\"The subsequence containing the 3rd, 4th, 5th, 6th, 7th an 8th element of s3 are: %s\"%str1[2:8])"
   ]
  },
  {
   "cell_type": "code",
   "execution_count": null,
   "metadata": {},
   "outputs": [],
   "source": []
  },
  {
   "cell_type": "code",
   "execution_count": 50,
   "metadata": {},
   "outputs": [
    {
     "name": "stdout",
     "output_type": "stream",
     "text": [
      "The last character of str3 is g\n",
      "The last 6 characters of str3 are: string\n"
     ]
    }
   ],
   "source": [
    "print(\"The last character of str3 is %s\"%str1[-1])\n",
    "print(\"The last 6 characters of str3 are: %s\"%str1[-6:])"
   ]
  },
  {
   "cell_type": "code",
   "execution_count": null,
   "metadata": {},
   "outputs": [],
   "source": []
  },
  {
   "cell_type": "markdown",
   "metadata": {},
   "source": [
    "### String operations"
   ]
  },
  {
   "cell_type": "markdown",
   "metadata": {},
   "source": [
    "In the following some operations can be executed on string objects"
   ]
  },
  {
   "cell_type": "markdown",
   "metadata": {},
   "source": [
    "| Operation | Result | \n",
    "| --- | --- | \n",
    "| x in s | True if an item of s is equal to x, else False | \n",
    "| x not in s | False if an item of s is equal to x, else True | \n",
    "| s + t | the concatenation of s and t | \n",
    "| s \\* n, n \\* s | equivalent to adding s to itself n times | \n",
    "| s.index(x) | index of the first occurrence of x in s | \n",
    "| s.count(x) | total number of occurrences of x in s |\n",
    "| s[i] | i.th item of s, origin 0 | \n",
    "| s[i:j] | slice of s from i to j | \n",
    "| s[i:j:k] | slice of s from i to j with step k | \n",
    "| len(s) | length of s | \n",
    "| min(s) | smallest item of s | \n",
    "| max(s) | largest item of s | "
   ]
  },
  {
   "cell_type": "markdown",
   "metadata": {},
   "source": [
    "### Concatenate strings"
   ]
  },
  {
   "cell_type": "markdown",
   "metadata": {},
   "source": [
    "As shown in the code snippet below:\n",
    "* `\\t` yields a tab shift\n",
    "* `\\n` yields a line -break"
   ]
  },
  {
   "cell_type": "code",
   "execution_count": 53,
   "metadata": {},
   "outputs": [
    {
     "name": "stdout",
     "output_type": "stream",
     "text": [
      "my first string my second string\n",
      "my first string \tmy second string\n",
      "my first string \n",
      "my second string\n"
     ]
    }
   ],
   "source": [
    "print((str1 + ' ' + str2))\n",
    "print((str1 + ' \\t' + str2))\n",
    "print((str1 + ' \\n' + str2))"
   ]
  },
  {
   "cell_type": "code",
   "execution_count": null,
   "metadata": {},
   "outputs": [],
   "source": []
  },
  {
   "cell_type": "markdown",
   "metadata": {},
   "source": [
    "### Determine the length of a string"
   ]
  },
  {
   "cell_type": "code",
   "execution_count": 54,
   "metadata": {},
   "outputs": [
    {
     "data": {
      "text/plain": [
       "15"
      ]
     },
     "execution_count": 54,
     "metadata": {},
     "output_type": "execute_result"
    }
   ],
   "source": [
    "len(str1)"
   ]
  },
  {
   "cell_type": "code",
   "execution_count": null,
   "metadata": {},
   "outputs": [],
   "source": []
  },
  {
   "cell_type": "markdown",
   "metadata": {},
   "source": [
    "### Index of first occurence of characters in a string"
   ]
  },
  {
   "cell_type": "code",
   "execution_count": 56,
   "metadata": {},
   "outputs": [
    {
     "name": "stdout",
     "output_type": "stream",
     "text": [
      "3\n",
      "9\n"
     ]
    }
   ],
   "source": [
    "print(str1.index('first'))\n",
    "print(str1.index('string'))"
   ]
  },
  {
   "cell_type": "code",
   "execution_count": null,
   "metadata": {},
   "outputs": [],
   "source": []
  },
  {
   "cell_type": "markdown",
   "metadata": {},
   "source": [
    "### Replicate strings"
   ]
  },
  {
   "cell_type": "code",
   "execution_count": 58,
   "metadata": {},
   "outputs": [
    {
     "data": {
      "text/plain": [
       "'abcdefg abcdefg abcdefg abcdefg abcdefg '"
      ]
     },
     "execution_count": 58,
     "metadata": {},
     "output_type": "execute_result"
    }
   ],
   "source": [
    "'abcdefg ' *5"
   ]
  },
  {
   "cell_type": "code",
   "execution_count": null,
   "metadata": {},
   "outputs": [],
   "source": []
  },
  {
   "cell_type": "markdown",
   "metadata": {},
   "source": [
    "### Count fequency of characters in a string"
   ]
  },
  {
   "cell_type": "code",
   "execution_count": 60,
   "metadata": {},
   "outputs": [
    {
     "name": "stdout",
     "output_type": "stream",
     "text": [
      "1\n",
      "2\n"
     ]
    }
   ],
   "source": [
    "print(str1.count('first'))\n",
    "print(str1.count('i'))"
   ]
  },
  {
   "cell_type": "code",
   "execution_count": null,
   "metadata": {},
   "outputs": [],
   "source": []
  },
  {
   "cell_type": "markdown",
   "metadata": {},
   "source": [
    "###  Characters are contained in strings"
   ]
  },
  {
   "cell_type": "code",
   "execution_count": 62,
   "metadata": {},
   "outputs": [
    {
     "name": "stdout",
     "output_type": "stream",
     "text": [
      "my first string\n",
      "True\n",
      "True\n",
      "True\n",
      "False\n",
      "True\n"
     ]
    }
   ],
   "source": [
    "print(str1)\n",
    "print('fi' in str1)\n",
    "print('ng' in str1)\n",
    "print(' ' in str1)\n",
    "print('\\n' in str1)\n",
    "print('\\n' in str3)"
   ]
  },
  {
   "cell_type": "code",
   "execution_count": null,
   "metadata": {},
   "outputs": [],
   "source": []
  },
  {
   "cell_type": "markdown",
   "metadata": {},
   "source": [
    "## Lists"
   ]
  },
  {
   "cell_type": "markdown",
   "metadata": {},
   "source": [
    "In Python lists can contain elements of different type. Same as the type string, the type list also belongs to the category of sequential types. Lists can be generated for example by writing the elements of the list comma separated into square brackets"
   ]
  },
  {
   "cell_type": "code",
   "execution_count": 65,
   "metadata": {},
   "outputs": [
    {
     "name": "stdout",
     "output_type": "stream",
     "text": [
      "[1, 2, 3.4, 'string1', False, ['a', 'b', 'c']]\n",
      "<class 'list'>\n"
     ]
    }
   ],
   "source": [
    "li1=[1,2,3.4,\"string1\",False,['a','b','c']]\n",
    "print(li1)\n",
    "print(type(li1))"
   ]
  },
  {
   "cell_type": "code",
   "execution_count": null,
   "metadata": {},
   "outputs": [],
   "source": []
  },
  {
   "cell_type": "markdown",
   "metadata": {},
   "source": [
    "Empty lists can be generated by mylist = list() | mylist = []"
   ]
  },
  {
   "cell_type": "code",
   "execution_count": 66,
   "metadata": {},
   "outputs": [
    {
     "name": "stdout",
     "output_type": "stream",
     "text": [
      "[]\n",
      "<class 'list'>\n"
     ]
    }
   ],
   "source": [
    "li2=list() \n",
    "print(li2)\n",
    "print(type(li2))"
   ]
  },
  {
   "cell_type": "code",
   "execution_count": null,
   "metadata": {},
   "outputs": [],
   "source": []
  },
  {
   "cell_type": "markdown",
   "metadata": {},
   "source": [
    "Numeric lists can be generated by the function\n",
    "\n",
    "range([start,]stop[,step])"
   ]
  },
  {
   "cell_type": "code",
   "execution_count": null,
   "metadata": {},
   "outputs": [],
   "source": []
  },
  {
   "cell_type": "code",
   "execution_count": 180,
   "metadata": {},
   "outputs": [
    {
     "name": "stdout",
     "output_type": "stream",
     "text": [
      "[0, 1, 2, 3, 4, 5, 6, 7, 8, 9, 10, 11, 12, 13, 14, 15, 16, 17, 18, 19]\n",
      "<class 'list'>\n",
      "[30, 32, 34, 36, 38]\n",
      "<class 'list'>\n"
     ]
    }
   ],
   "source": [
    "li3=list(range(20))\n",
    "print(li3)\n",
    "print(type(li3))\n",
    "li4=list(range(30,39,2))\n",
    "print(li4)\n",
    "print(type(li4))"
   ]
  },
  {
   "cell_type": "code",
   "execution_count": null,
   "metadata": {},
   "outputs": [],
   "source": []
  },
  {
   "cell_type": "markdown",
   "metadata": {},
   "source": [
    "### Accessing list elements"
   ]
  },
  {
   "cell_type": "markdown",
   "metadata": {},
   "source": [
    "Same as with strings, each component of a list, can be accessed by a index. Multiple list elements can be sliced by an index range."
   ]
  },
  {
   "cell_type": "code",
   "execution_count": 72,
   "metadata": {},
   "outputs": [
    {
     "name": "stdout",
     "output_type": "stream",
     "text": [
      "[1, 2, 3.4, 'string1', False, ['a', 'b', 'c']]\n",
      "3.4\n",
      "False\n",
      "[2, 3.4, 'string1']\n",
      "['string1', False, ['a', 'b', 'c']]\n"
     ]
    }
   ],
   "source": [
    "print(li1)\n",
    "print(li1[2])\n",
    "print(li1[-2])\n",
    "print(li1[1:4])\n",
    "print(li1[3:])"
   ]
  },
  {
   "cell_type": "code",
   "execution_count": null,
   "metadata": {},
   "outputs": [],
   "source": []
  },
  {
   "cell_type": "markdown",
   "metadata": {},
   "source": [
    "The last element of list li1 is a list itself. Elements of the list can be accessed as follows"
   ]
  },
  {
   "cell_type": "code",
   "execution_count": 73,
   "metadata": {},
   "outputs": [
    {
     "name": "stdout",
     "output_type": "stream",
     "text": [
      "b\n"
     ]
    }
   ],
   "source": [
    "print(li1[-1][1])"
   ]
  },
  {
   "cell_type": "code",
   "execution_count": null,
   "metadata": {},
   "outputs": [],
   "source": []
  },
  {
   "cell_type": "markdown",
   "metadata": {},
   "source": [
    "### Editing Lists"
   ]
  },
  {
   "cell_type": "markdown",
   "metadata": {},
   "source": [
    "The following table summarizes the most important methods on lists"
   ]
  },
  {
   "cell_type": "markdown",
   "metadata": {},
   "source": [
    "| Method | Result | \n",
    "| --- | --- | \n",
    "| `list.insert(i,x)` | Insert `x` at position `i`. | \n",
    "| `list.remove(x)` | Remove the first item from the list whose value is `x`. It is an error if there is no such item. | \n",
    "| `list.append(x)` | Add an item to the end of the list | \n",
    "| `list.extend(L)` | Extend the list by appending all the items in the given list | \n",
    "| `list.pop([i])` | Remove the item at position `i` in the list, and return it. If no index is specified, the last element is removed and returned. | \n",
    "| `list.index(x)` | Return the index in the list of the first item whose value is `x`. It is an error if there is no such item. | \n",
    "| `list.count(x)` | Return the number of times `x` appears in the list. | \n",
    "| `list.reverse()` | Reverse the elements of the list | \n",
    "| `list.sort()` | Sort the items of the list | \n"
   ]
  },
  {
   "cell_type": "code",
   "execution_count": null,
   "metadata": {},
   "outputs": [],
   "source": []
  },
  {
   "cell_type": "markdown",
   "metadata": {},
   "source": [
    "#### Editing a single list element"
   ]
  },
  {
   "cell_type": "code",
   "execution_count": 78,
   "metadata": {},
   "outputs": [
    {
     "name": "stdout",
     "output_type": "stream",
     "text": [
      "[6, 8, 10]\n"
     ]
    }
   ],
   "source": [
    "li5=[6,8,10]\n",
    "print(li5)"
   ]
  },
  {
   "cell_type": "code",
   "execution_count": null,
   "metadata": {},
   "outputs": [],
   "source": []
  },
  {
   "cell_type": "markdown",
   "metadata": {},
   "source": [
    "Assign a new value to the third element"
   ]
  },
  {
   "cell_type": "code",
   "execution_count": 79,
   "metadata": {},
   "outputs": [
    {
     "name": "stdout",
     "output_type": "stream",
     "text": [
      "[6, 8, 20]\n"
     ]
    }
   ],
   "source": [
    "li5[2]=20\n",
    "print(li5)"
   ]
  },
  {
   "cell_type": "code",
   "execution_count": null,
   "metadata": {},
   "outputs": [],
   "source": []
  },
  {
   "cell_type": "markdown",
   "metadata": {},
   "source": [
    "Assign a new list to the third element"
   ]
  },
  {
   "cell_type": "code",
   "execution_count": 82,
   "metadata": {},
   "outputs": [
    {
     "name": "stdout",
     "output_type": "stream",
     "text": [
      "[6, 8, [21, 22]]\n"
     ]
    }
   ],
   "source": [
    "li5[2]=[21,22]\n",
    "print(li5)"
   ]
  },
  {
   "cell_type": "code",
   "execution_count": null,
   "metadata": {},
   "outputs": [],
   "source": []
  },
  {
   "cell_type": "markdown",
   "metadata": {},
   "source": [
    "#### Concatenate and append lists"
   ]
  },
  {
   "cell_type": "markdown",
   "metadata": {},
   "source": [
    "New elements can be attached to the end of the list by the append function:"
   ]
  },
  {
   "cell_type": "code",
   "execution_count": 95,
   "metadata": {},
   "outputs": [
    {
     "name": "stdout",
     "output_type": "stream",
     "text": [
      "['a']\n",
      "['a', 'b']\n"
     ]
    }
   ],
   "source": [
    "li6=[]\n",
    "li6.append('a') \n",
    "print(li6)\n",
    "li6.append('b') \n",
    "print(li6)"
   ]
  },
  {
   "cell_type": "code",
   "execution_count": null,
   "metadata": {},
   "outputs": [],
   "source": []
  },
  {
   "cell_type": "markdown",
   "metadata": {},
   "source": [
    "If the argument of append(anotherlist) is another list, then not the elements of anotherlist are attached to the list. Instead a single element, which is a list, is appended. Using the extend(anotherlist)-function attaches the single elements of anotherlist to the given list."
   ]
  },
  {
   "cell_type": "code",
   "execution_count": 96,
   "metadata": {},
   "outputs": [
    {
     "name": "stdout",
     "output_type": "stream",
     "text": [
      "['a', 'b', ['c', 'd', 'e']]\n",
      "3\n"
     ]
    }
   ],
   "source": [
    "li6.append(['c','d','e'])\n",
    "print(li6)\n",
    "print(len(li6))"
   ]
  },
  {
   "cell_type": "code",
   "execution_count": null,
   "metadata": {},
   "outputs": [],
   "source": []
  },
  {
   "cell_type": "markdown",
   "metadata": {},
   "source": [
    "The Pop() function returns and removes the element at the last index of the list"
   ]
  },
  {
   "cell_type": "code",
   "execution_count": 97,
   "metadata": {},
   "outputs": [
    {
     "name": "stdout",
     "output_type": "stream",
     "text": [
      "pop() function:   ['c', 'd', 'e']\n",
      "After pop() last element is removed:   ['a', 'b']\n",
      "['a', 'b']\n"
     ]
    }
   ],
   "source": [
    "print(\"pop() function:  \",li6.pop())\n",
    "print(\"After pop() last element is removed:  \",li6)\n",
    "print(li6)"
   ]
  },
  {
   "cell_type": "code",
   "execution_count": null,
   "metadata": {},
   "outputs": [],
   "source": []
  },
  {
   "cell_type": "code",
   "execution_count": 98,
   "metadata": {},
   "outputs": [
    {
     "name": "stdout",
     "output_type": "stream",
     "text": [
      "List extended:  ['a', 'b', 'c', 'd', 'e', 'f']\n",
      "Another list extension:  ['a', 'b', 'c', 'd', 'e', 'f', 'g', 'h', 'i']\n"
     ]
    }
   ],
   "source": [
    "li6.extend(['c','d','e','f'])\n",
    "print(\"List extended: \",li6)\n",
    "print(\"Another list extension: \",li6 + ['g','h','i'])"
   ]
  },
  {
   "cell_type": "code",
   "execution_count": null,
   "metadata": {},
   "outputs": [],
   "source": []
  },
  {
   "cell_type": "markdown",
   "metadata": {},
   "source": [
    "#### Insert elements"
   ]
  },
  {
   "cell_type": "markdown",
   "metadata": {},
   "source": [
    "Insert 'A' at first position and insert a list at second position"
   ]
  },
  {
   "cell_type": "code",
   "execution_count": 100,
   "metadata": {},
   "outputs": [
    {
     "name": "stdout",
     "output_type": "stream",
     "text": [
      "['A', 'A', ['B', 'C'], 'a', 'b', 'c', 'd', 'e', 'f']\n",
      "['A', ['B', 'C'], 'A', ['B', 'C'], 'a', 'b', 'c', 'd', 'e', 'f']\n"
     ]
    }
   ],
   "source": [
    "li6.insert(0,'A') \n",
    "print(li6)\n",
    "li6.insert(1,['B','C']) \n",
    "print(li6)"
   ]
  },
  {
   "cell_type": "code",
   "execution_count": null,
   "metadata": {},
   "outputs": [],
   "source": []
  },
  {
   "cell_type": "markdown",
   "metadata": {},
   "source": [
    "#### Remove elements"
   ]
  },
  {
   "cell_type": "markdown",
   "metadata": {},
   "source": [
    "Remove the element at index 1 an remove the first 5 elements"
   ]
  },
  {
   "cell_type": "code",
   "execution_count": 103,
   "metadata": {},
   "outputs": [
    {
     "name": "stdout",
     "output_type": "stream",
     "text": [
      "['A', ['B', 'C'], 'A', ['B', 'C'], 'a', 'b', 'c', 'd', 'e', 'f']\n",
      "['A', 'A', ['B', 'C'], 'a', 'b', 'c', 'd', 'e', 'f']\n"
     ]
    }
   ],
   "source": [
    "print(li6)\n",
    "li6[1:2]=[] \n",
    "print(li6)"
   ]
  },
  {
   "cell_type": "code",
   "execution_count": null,
   "metadata": {},
   "outputs": [],
   "source": []
  },
  {
   "cell_type": "code",
   "execution_count": 104,
   "metadata": {},
   "outputs": [
    {
     "name": "stdout",
     "output_type": "stream",
     "text": [
      "['c', 'd', 'e', 'f']\n"
     ]
    }
   ],
   "source": [
    "li6[:5]=[] \n",
    "print(li6)"
   ]
  },
  {
   "cell_type": "code",
   "execution_count": null,
   "metadata": {},
   "outputs": [],
   "source": []
  },
  {
   "cell_type": "markdown",
   "metadata": {},
   "source": [
    "### String to list"
   ]
  },
  {
   "cell_type": "markdown",
   "metadata": {},
   "source": [
    "When working with text, it is usual that the text is stored in a string-variable. Since many text-processing tasks are based on word statistics, the string must be split into a list of words. This process is called tokenization and can be realized by using the split() method, as shown in the following code cell:"
   ]
  },
  {
   "cell_type": "code",
   "execution_count": 106,
   "metadata": {},
   "outputs": [
    {
     "name": "stdout",
     "output_type": "stream",
     "text": [
      "['Python', 'is', 'an', 'interpreted,', 'high-level', 'and', 'general-purpose', 'programming', 'language.', \"Python's\", 'design', 'philosophy', 'emphasizes', 'code', 'readability', 'with', 'its', 'notable', 'use', 'of', 'significant', 'indentation.', 'Its', 'language', 'constructs', 'and', 'object-oriented', 'approach', 'aim', 'to', 'help', 'programmers', 'write', 'clear,', 'logical', 'code', 'for', 'small', 'and', 'large-scale', 'projects']\n"
     ]
    }
   ],
   "source": [
    "myString=\"\"\"Python is an interpreted, high-level and general-purpose programming language. Python's design philosophy\n",
    "emphasizes code readability with its notable use of significant indentation. Its language \n",
    "constructs and object-oriented approach aim to help programmers write clear, logical code for small and \n",
    "large-scale projects\n",
    "\"\"\"\n",
    "myList=myString.split()\n",
    "print(myList)"
   ]
  },
  {
   "cell_type": "code",
   "execution_count": null,
   "metadata": {},
   "outputs": [],
   "source": []
  },
  {
   "cell_type": "markdown",
   "metadata": {},
   "source": [
    "The tokens in the list can contain special characters. Often it is required that the words are normalized , that all letters are represented in lowercase and without special characters. These can be removed by applying the strip() method and the lower() method.\n",
    "Both processing steps can be implemented as shown below in the code below:\n",
    "The code contains a list comprehension, which function is explained in Python Course-Part 04-Control Structures"
   ]
  },
  {
   "cell_type": "code",
   "execution_count": 107,
   "metadata": {},
   "outputs": [
    {
     "name": "stdout",
     "output_type": "stream",
     "text": [
      "['python', 'is', 'an', 'interpreted', 'high-level', 'and', 'general-purpose', 'programming', 'language', \"python's\", 'design', 'philosophy', 'emphasizes', 'code', 'readability', 'with', 'its', 'notable', 'use', 'of', 'significant', 'indentation', 'its', 'language', 'constructs', 'and', 'object-oriented', 'approach', 'aim', 'to', 'help', 'programmers', 'write', 'clear', 'logical', 'code', 'for', 'small', 'and', 'large-scale', 'projects']\n"
     ]
    }
   ],
   "source": [
    "myNormList=[word.strip('.,!?:\\\"()').lower() for word in myList]\n",
    "print(myNormList)"
   ]
  },
  {
   "cell_type": "code",
   "execution_count": null,
   "metadata": {},
   "outputs": [],
   "source": []
  },
  {
   "cell_type": "markdown",
   "metadata": {},
   "source": [
    "If elements of a list, shall be written into a line of a file. The other way around, is also required. The write() function, as introduced in Python Course-Part 02-Getting Started with Python| Basics. The code cell demonstrates the conversion of a list into a comma separated string. The numeric elements of the list must be converted into string variables, before they are joined into a string."
   ]
  },
  {
   "cell_type": "code",
   "execution_count": 113,
   "metadata": {},
   "outputs": [
    {
     "name": "stdout",
     "output_type": "stream",
     "text": [
      "List: [0, 1, 2, 3, 4, 5, 6, 7, 8, 9, 10, 11, 12, 13, 14, 15, 16, 17, 18, 19, 20]\n",
      "List type: <class 'list'>\n",
      "csvString: 0,1,2,3,4,5,6,7,8,9,10,11,12,13,14,15,16,17,18,19,20\n",
      "csvString type: <class 'str'>\n"
     ]
    }
   ],
   "source": [
    "myNumList=list(range(21))\n",
    "csvString=','.join(str(e) for e in myNumList)\n",
    "print(\"List:\",myNumList)\n",
    "print(\"List type:\",type(myNumList))\n",
    "print(\"csvString:\",csvString)\n",
    "print(\"csvString type:\",type(csvString))"
   ]
  },
  {
   "cell_type": "code",
   "execution_count": null,
   "metadata": {},
   "outputs": [],
   "source": []
  },
  {
   "cell_type": "markdown",
   "metadata": {},
   "source": [
    "## Tupels"
   ]
  },
  {
   "cell_type": "markdown",
   "metadata": {},
   "source": [
    "Tuples are immutable lists. This means that they can not be modified after creation. Their immutable character also protects data against undesired changes. Tuples can be generated similar to lists,  their elements are surrounded by parentheses instead of square brackets."
   ]
  },
  {
   "cell_type": "code",
   "execution_count": 115,
   "metadata": {},
   "outputs": [
    {
     "name": "stdout",
     "output_type": "stream",
     "text": [
      "(2, 4.6, 8, 10, 'a', 'b', 'c', 'a tuple', (1, 2, 3, 4, 5))\n",
      "<class 'tuple'>\n"
     ]
    }
   ],
   "source": [
    "tup1=(2,4.6,8,10,'a','b','c','a tuple',(1,2,3,4,5))\n",
    "print(tup1)\n",
    "print(type(tup1))"
   ]
  },
  {
   "cell_type": "code",
   "execution_count": null,
   "metadata": {},
   "outputs": [],
   "source": []
  },
  {
   "cell_type": "markdown",
   "metadata": {},
   "source": [
    "Tuple elements can be accessed in the same way as a list element. For example to access the first 5 elements of the tuple"
   ]
  },
  {
   "cell_type": "code",
   "execution_count": 117,
   "metadata": {},
   "outputs": [
    {
     "name": "stdout",
     "output_type": "stream",
     "text": [
      "(2, 4.6, 8, 10, 'a')\n"
     ]
    }
   ],
   "source": [
    "print(tup1[:5])"
   ]
  },
  {
   "cell_type": "code",
   "execution_count": null,
   "metadata": {},
   "outputs": [],
   "source": []
  },
  {
   "cell_type": "markdown",
   "metadata": {},
   "source": [
    "Any attempt to modify a tuple yields an error, as shown below:"
   ]
  },
  {
   "cell_type": "code",
   "execution_count": 118,
   "metadata": {},
   "outputs": [
    {
     "ename": "TypeError",
     "evalue": "'tuple' object does not support item assignment",
     "output_type": "error",
     "traceback": [
      "\u001b[1;31m---------------------------------------------------------------------------\u001b[0m",
      "\u001b[1;31mTypeError\u001b[0m                                 Traceback (most recent call last)",
      "\u001b[1;32m<ipython-input-118-3750f26fc4aa>\u001b[0m in \u001b[0;36m<module>\u001b[1;34m\u001b[0m\n\u001b[1;32m----> 1\u001b[1;33m \u001b[0mtup1\u001b[0m\u001b[1;33m[\u001b[0m\u001b[1;36m1\u001b[0m\u001b[1;33m]\u001b[0m\u001b[1;33m=\u001b[0m\u001b[1;36m56\u001b[0m\u001b[1;33m\u001b[0m\u001b[1;33m\u001b[0m\u001b[0m\n\u001b[0m",
      "\u001b[1;31mTypeError\u001b[0m: 'tuple' object does not support item assignment"
     ]
    }
   ],
   "source": [
    "tup1[1]=56"
   ]
  },
  {
   "cell_type": "code",
   "execution_count": null,
   "metadata": {},
   "outputs": [],
   "source": []
  },
  {
   "cell_type": "markdown",
   "metadata": {},
   "source": [
    "# Sets"
   ]
  },
  {
   "cell_type": "markdown",
   "metadata": {},
   "source": [
    "A set is a collection of distinct objects, which is both unordered and unindexed. No object can be contained more than once in a set. Sets are written with curly brackets."
   ]
  },
  {
   "cell_type": "code",
   "execution_count": null,
   "metadata": {},
   "outputs": [],
   "source": []
  },
  {
   "cell_type": "markdown",
   "metadata": {},
   "source": [
    "## Generate sets"
   ]
  },
  {
   "cell_type": "markdown",
   "metadata": {},
   "source": [
    "An empty set can be generated by"
   ]
  },
  {
   "cell_type": "code",
   "execution_count": 119,
   "metadata": {},
   "outputs": [
    {
     "name": "stdout",
     "output_type": "stream",
     "text": [
      "set()\n"
     ]
    }
   ],
   "source": [
    "mySet=set()\n",
    "print(mySet)"
   ]
  },
  {
   "cell_type": "code",
   "execution_count": null,
   "metadata": {},
   "outputs": [],
   "source": []
  },
  {
   "cell_type": "markdown",
   "metadata": {},
   "source": [
    "For this the list object \"se\" is past as argument to the set() function. For example in text processing the text is first available as a long string variable. Using the split() method the string is segmented into a list of words. "
   ]
  },
  {
   "cell_type": "code",
   "execution_count": 120,
   "metadata": {},
   "outputs": [
    {
     "name": "stdout",
     "output_type": "stream",
     "text": [
      "hello i am a small text i am a big text \n",
      "40\n"
     ]
    }
   ],
   "source": [
    "se=\"hello i am a small text i am a big text \" \n",
    "seWord=se.split() \n",
    "print(se)\n",
    "print(len(se))\n"
   ]
  },
  {
   "cell_type": "code",
   "execution_count": 121,
   "metadata": {},
   "outputs": [
    {
     "name": "stdout",
     "output_type": "stream",
     "text": [
      "{'am', 'big', 'a', 'small', 'i', 'hello', 'text'}\n",
      "7\n"
     ]
    }
   ],
   "source": [
    "vocab=set(seWord) \n",
    "print(vocab)\n",
    "print(len(vocab))"
   ]
  },
  {
   "cell_type": "code",
   "execution_count": null,
   "metadata": {},
   "outputs": [],
   "source": []
  },
  {
   "cell_type": "markdown",
   "metadata": {},
   "source": [
    "## Operations on sets"
   ]
  },
  {
   "cell_type": "markdown",
   "metadata": {},
   "source": [
    "Copies of sets can be generated by set.copy(). The methods set.add(element) and set.discard(element) can be applied to add and remove single elements into/from a set. For removing all elements of a set set.clear() can be applied."
   ]
  },
  {
   "cell_type": "code",
   "execution_count": 123,
   "metadata": {},
   "outputs": [
    {
     "name": "stdout",
     "output_type": "stream",
     "text": [
      "{'i', 'am', 'hello', 'text', 'big', 'a', 'small'}\n",
      "{'i', 'new1', 'am', 'hello', 'text', 'big', 'a', 'small'}\n",
      "{'a', 'new1', 'am', 'big', 'new2', 'small', 'i', 'hello', 'text'}\n",
      "{'a', 'am', 'big', 'new2', 'small', 'i', 'hello', 'text'}\n"
     ]
    }
   ],
   "source": [
    "vocab2=vocab.copy()\n",
    "print(vocab2)\n",
    "vocab2.add('new1')\n",
    "print(vocab2)\n",
    "vocab2.add('new2')\n",
    "print(vocab2)\n",
    "vocab2.remove('new1')\n",
    "print(vocab2)"
   ]
  },
  {
   "cell_type": "code",
   "execution_count": null,
   "metadata": {},
   "outputs": [],
   "source": []
  },
  {
   "cell_type": "markdown",
   "metadata": {},
   "source": [
    "### Intersection of two sets"
   ]
  },
  {
   "cell_type": "markdown",
   "metadata": {},
   "source": [
    "All elements, which are contained in the first and in the second set:"
   ]
  },
  {
   "cell_type": "code",
   "execution_count": 126,
   "metadata": {},
   "outputs": [
    {
     "name": "stdout",
     "output_type": "stream",
     "text": [
      "{'am', 'big', 'a', 'small', 'i', 'hello', 'text'}\n"
     ]
    }
   ],
   "source": [
    "vocabInter=vocab2&vocab\n",
    "print(vocabInter)"
   ]
  },
  {
   "cell_type": "code",
   "execution_count": null,
   "metadata": {},
   "outputs": [],
   "source": []
  },
  {
   "cell_type": "markdown",
   "metadata": {},
   "source": [
    "### Union of two sets"
   ]
  },
  {
   "cell_type": "markdown",
   "metadata": {},
   "source": [
    "All elements, which are contained in the first or in the second set:"
   ]
  },
  {
   "cell_type": "code",
   "execution_count": 125,
   "metadata": {},
   "outputs": [
    {
     "name": "stdout",
     "output_type": "stream",
     "text": [
      "{'am', 'big', 'a', 'new2', 'small', 'i', 'hello', 'text'}\n"
     ]
    }
   ],
   "source": [
    "vocabUn=vocab2|vocab\n",
    "print(vocabUn)"
   ]
  },
  {
   "cell_type": "code",
   "execution_count": null,
   "metadata": {},
   "outputs": [],
   "source": []
  },
  {
   "cell_type": "code",
   "execution_count": null,
   "metadata": {},
   "outputs": [],
   "source": []
  },
  {
   "cell_type": "markdown",
   "metadata": {},
   "source": [
    "### All elements of the first set, except the ones, which are contained also in the second set"
   ]
  },
  {
   "cell_type": "code",
   "execution_count": 127,
   "metadata": {},
   "outputs": [
    {
     "name": "stdout",
     "output_type": "stream",
     "text": [
      "{'new2'}\n"
     ]
    }
   ],
   "source": [
    "vocabEx=vocab^vocab2\n",
    "print(vocabEx)"
   ]
  },
  {
   "cell_type": "code",
   "execution_count": null,
   "metadata": {},
   "outputs": [],
   "source": []
  },
  {
   "cell_type": "code",
   "execution_count": null,
   "metadata": {},
   "outputs": [],
   "source": []
  },
  {
   "cell_type": "markdown",
   "metadata": {},
   "source": [
    "### Check the membership"
   ]
  },
  {
   "cell_type": "code",
   "execution_count": 129,
   "metadata": {},
   "outputs": [
    {
     "name": "stdout",
     "output_type": "stream",
     "text": [
      "True\n",
      "False\n"
     ]
    }
   ],
   "source": [
    "print('i' in vocab2)\n",
    "print('sunshine' in vocab2)"
   ]
  },
  {
   "cell_type": "code",
   "execution_count": null,
   "metadata": {},
   "outputs": [],
   "source": []
  },
  {
   "cell_type": "markdown",
   "metadata": {},
   "source": [
    "### Check subset"
   ]
  },
  {
   "cell_type": "code",
   "execution_count": 131,
   "metadata": {},
   "outputs": [
    {
     "name": "stdout",
     "output_type": "stream",
     "text": [
      "False\n",
      "False\n",
      "True\n"
     ]
    }
   ],
   "source": [
    "print(vocab2<vocab)  #true if vocab 2 is subset of vocabulary\n",
    "print(vocab2<=vocab) #true if vocab 2 is real subset of vocabulary (not equal)\n",
    "print(set(['a','text']) <= vocab2)"
   ]
  },
  {
   "cell_type": "code",
   "execution_count": null,
   "metadata": {},
   "outputs": [],
   "source": []
  },
  {
   "cell_type": "markdown",
   "metadata": {},
   "source": [
    "### Convert set to a list"
   ]
  },
  {
   "cell_type": "markdown",
   "metadata": {},
   "source": [
    "Set elements can not be accessed by an index. If access to elements is required the set is usually transformed to a list. This can be implemented as follows:"
   ]
  },
  {
   "cell_type": "code",
   "execution_count": 137,
   "metadata": {},
   "outputs": [
    {
     "name": "stdout",
     "output_type": "stream",
     "text": [
      "['a', 'am', 'big', 'new2', 'small', 'i', 'hello', 'text']\n",
      "hello\n"
     ]
    }
   ],
   "source": [
    "vocabList=list(vocab2)\n",
    "print(vocabList)\n",
    "print(vocabList[6])"
   ]
  },
  {
   "cell_type": "code",
   "execution_count": null,
   "metadata": {},
   "outputs": [],
   "source": []
  },
  {
   "cell_type": "markdown",
   "metadata": {},
   "source": [
    "## Immutable sets - frozensets"
   ]
  },
  {
   "cell_type": "markdown",
   "metadata": {},
   "source": [
    "Besides the data type set there exists a second type related to sets - the frozenset. Sets of type frozenset are immutable, it's content can not be modified after it is created."
   ]
  },
  {
   "cell_type": "code",
   "execution_count": 133,
   "metadata": {},
   "outputs": [
    {
     "name": "stdout",
     "output_type": "stream",
     "text": [
      "frozenset({'a', 'd', 'b', 'c', 'e'})\n"
     ]
    }
   ],
   "source": [
    "frozSet=frozenset(['a','b','c','d','e'])\n",
    "print(frozSet)"
   ]
  },
  {
   "cell_type": "code",
   "execution_count": null,
   "metadata": {},
   "outputs": [],
   "source": []
  },
  {
   "cell_type": "markdown",
   "metadata": {},
   "source": [
    "The attempt to modify a frozenset yields an error:"
   ]
  },
  {
   "cell_type": "code",
   "execution_count": 134,
   "metadata": {},
   "outputs": [
    {
     "ename": "AttributeError",
     "evalue": "'frozenset' object has no attribute 'add'",
     "output_type": "error",
     "traceback": [
      "\u001b[1;31m---------------------------------------------------------------------------\u001b[0m",
      "\u001b[1;31mAttributeError\u001b[0m                            Traceback (most recent call last)",
      "\u001b[1;32m<ipython-input-134-ebd710882bd4>\u001b[0m in \u001b[0;36m<module>\u001b[1;34m\u001b[0m\n\u001b[1;32m----> 1\u001b[1;33m \u001b[0mfrozSet\u001b[0m\u001b[1;33m.\u001b[0m\u001b[0madd\u001b[0m\u001b[1;33m(\u001b[0m\u001b[1;34m'f'\u001b[0m\u001b[1;33m)\u001b[0m\u001b[1;33m\u001b[0m\u001b[1;33m\u001b[0m\u001b[0m\n\u001b[0m",
      "\u001b[1;31mAttributeError\u001b[0m: 'frozenset' object has no attribute 'add'"
     ]
    }
   ],
   "source": [
    "frozSet.add('f')"
   ]
  },
  {
   "cell_type": "code",
   "execution_count": null,
   "metadata": {},
   "outputs": [],
   "source": []
  },
  {
   "cell_type": "markdown",
   "metadata": {},
   "source": [
    "#  Dictionary"
   ]
  },
  {
   "cell_type": "markdown",
   "metadata": {},
   "source": [
    "Assume that a set of cars shall be described by their brand, model, fuel type, and year. One option to model this information in Python is to allocate for each car a list, which contains the mentioned parameters as components. Sets of cars could then be modelled as lists of lists."
   ]
  },
  {
   "cell_type": "code",
   "execution_count": null,
   "metadata": {},
   "outputs": [],
   "source": []
  },
  {
   "cell_type": "code",
   "execution_count": 138,
   "metadata": {},
   "outputs": [
    {
     "name": "stdout",
     "output_type": "stream",
     "text": [
      "['Tesla', 'Model S', 'ELECTRIC', 2020]\n",
      "['Audi', 'e-Tron', 'ELECTRIC', 2021]\n",
      "[['Tesla', 'Model S', 'ELECTRIC', 2020], ['Audi', 'e-Tron', 'ELECTRIC', 2021]]\n"
     ]
    }
   ],
   "source": [
    "c1=['Tesla','Model S','ELECTRIC',2020]\n",
    "print(c1)\n",
    "c2=['Audi','e-Tron','ELECTRIC',2021]\n",
    "print(c2)\n",
    "cars=[c1,c2]\n",
    "print(cars)"
   ]
  },
  {
   "cell_type": "code",
   "execution_count": null,
   "metadata": {},
   "outputs": [],
   "source": []
  },
  {
   "cell_type": "markdown",
   "metadata": {},
   "source": [
    "If a certain parameter,  year, shall be queried, it must be known at which index of the car-vector of this parameter is stored. This is a drawback, in particular, if there are much more parameters/components in the lists. It would be nice if parameter-values can be queried by the name of the parameter. This feature is provided by the Python data type dictionary. "
   ]
  },
  {
   "cell_type": "code",
   "execution_count": null,
   "metadata": {},
   "outputs": [],
   "source": []
  },
  {
   "cell_type": "markdown",
   "metadata": {},
   "source": [
    "##  Generate dictionary"
   ]
  },
  {
   "cell_type": "markdown",
   "metadata": {},
   "source": [
    "Dictionaries are used to store data values in key:value pairs. A dictionary is a collection which is ordered, changeable and does not allow duplicates."
   ]
  },
  {
   "cell_type": "markdown",
   "metadata": {},
   "source": [
    "The same information as modelled with lists in the example above, is now modelled with dictionaries. An empty dictionary is defined by curly brackets myDict={} or by myDict=dict(). Non-empty dictionaries contain within the curly brackets an arbitrary number of key-value-pairs. These pairs are separated by commas. Keys and values are separated by a colon: myDict={key1:value1,key2:value2,key3:value3}"
   ]
  },
  {
   "cell_type": "code",
   "execution_count": null,
   "metadata": {},
   "outputs": [],
   "source": []
  },
  {
   "cell_type": "code",
   "execution_count": 161,
   "metadata": {},
   "outputs": [
    {
     "name": "stdout",
     "output_type": "stream",
     "text": [
      "{'brand': 'Tesla', 'model': 'Model S', 'fueltype': 'ELECTRIC', 'year': 2020, 'colors': ['black', 'white', 'green']}\n"
     ]
    },
    {
     "data": {
      "text/plain": [
       "dict"
      ]
     },
     "execution_count": 161,
     "metadata": {},
     "output_type": "execute_result"
    }
   ],
   "source": [
    "car1 = {\"brand\": \"Tesla\",\n",
    "        \"model\": \"Model S\",\n",
    "        \"fueltype\": \"ELECTRIC\",\n",
    "        \"year\": 2020,\n",
    "        \"colors\": [\"black\", \"white\", \"green\"]}\n",
    "\n",
    "print(car1)\n",
    "type(car1)\n",
    "\n"
   ]
  },
  {
   "cell_type": "code",
   "execution_count": 156,
   "metadata": {},
   "outputs": [
    {
     "name": "stdout",
     "output_type": "stream",
     "text": [
      "{'brand': 'Audi', 'model': 'e-Tron', 'fueltype': 'ELECTRIC', 'year': 2021}\n"
     ]
    },
    {
     "data": {
      "text/plain": [
       "dict"
      ]
     },
     "execution_count": 156,
     "metadata": {},
     "output_type": "execute_result"
    }
   ],
   "source": [
    "car2 = {\"brand\": \"Audi\",\n",
    "        \"model\": \"e-Tron\",\n",
    "        \"fueltype\": \"ELECTRIC\",\n",
    "        \"year\": 2021 }\n",
    "\n",
    "print(car2)\n",
    "type(car2)"
   ]
  },
  {
   "cell_type": "code",
   "execution_count": null,
   "metadata": {},
   "outputs": [],
   "source": []
  },
  {
   "cell_type": "markdown",
   "metadata": {},
   "source": [
    "## Accessing Dictionary keys and values"
   ]
  },
  {
   "cell_type": "markdown",
   "metadata": {},
   "source": [
    "The number of key value pairs in a dictionary can be printed by len(dictname) "
   ]
  },
  {
   "cell_type": "code",
   "execution_count": 162,
   "metadata": {},
   "outputs": [
    {
     "name": "stdout",
     "output_type": "stream",
     "text": [
      "5\n",
      "3\n"
     ]
    }
   ],
   "source": [
    "print(len(car1))\n",
    "print(len(car1['colors']))"
   ]
  },
  {
   "cell_type": "code",
   "execution_count": null,
   "metadata": {},
   "outputs": [],
   "source": []
  },
  {
   "cell_type": "markdown",
   "metadata": {},
   "source": [
    "A list of all keys and a list of all values of a dictionary can be queried by the dict.keys() and dict.values() functions."
   ]
  },
  {
   "cell_type": "code",
   "execution_count": 163,
   "metadata": {},
   "outputs": [
    {
     "name": "stdout",
     "output_type": "stream",
     "text": [
      "Keys:\n",
      " ['brand', 'model', 'fueltype', 'year', 'colors']\n",
      "Values:\n",
      " ['Tesla', 'Model S', 'ELECTRIC', 2020, ['black', 'white', 'green']]\n"
     ]
    }
   ],
   "source": [
    "print(\"Keys:\\n\",list(car1.keys()))\n",
    "print(\"Values:\\n\",list(car1.values()))"
   ]
  },
  {
   "cell_type": "code",
   "execution_count": null,
   "metadata": {},
   "outputs": [],
   "source": []
  },
  {
   "cell_type": "markdown",
   "metadata": {},
   "source": [
    "A list of all key value pairs is returned by the dict.items() function"
   ]
  },
  {
   "cell_type": "code",
   "execution_count": 164,
   "metadata": {},
   "outputs": [
    {
     "name": "stdout",
     "output_type": "stream",
     "text": [
      "[('brand', 'Tesla'), ('model', 'Model S'), ('fueltype', 'ELECTRIC'), ('year', 2020), ('colors', ['black', 'white', 'green'])]\n"
     ]
    }
   ],
   "source": [
    "print(list(car1.items()))"
   ]
  },
  {
   "cell_type": "code",
   "execution_count": null,
   "metadata": {},
   "outputs": [],
   "source": []
  },
  {
   "cell_type": "markdown",
   "metadata": {},
   "source": [
    "A value for a given key can be obtained by writing the key-name in square brackets:"
   ]
  },
  {
   "cell_type": "code",
   "execution_count": 165,
   "metadata": {},
   "outputs": [
    {
     "data": {
      "text/plain": [
       "'Model S'"
      ]
     },
     "execution_count": 165,
     "metadata": {},
     "output_type": "execute_result"
    }
   ],
   "source": [
    "car1['model']"
   ]
  },
  {
   "cell_type": "code",
   "execution_count": null,
   "metadata": {},
   "outputs": [],
   "source": []
  },
  {
   "cell_type": "markdown",
   "metadata": {},
   "source": [
    "## Modifying Dictionaries"
   ]
  },
  {
   "cell_type": "markdown",
   "metadata": {},
   "source": [
    "Duplicate (year) values will overwrite existing values"
   ]
  },
  {
   "cell_type": "code",
   "execution_count": 171,
   "metadata": {},
   "outputs": [
    {
     "name": "stdout",
     "output_type": "stream",
     "text": [
      "{'brand': 'VW', 'model': 'ID.4', 'fueltype': 'ELECTRIC', 'year': 2021, 'colors': ['yellow', 'black', 'purple']}\n"
     ]
    },
    {
     "data": {
      "text/plain": [
       "dict"
      ]
     },
     "execution_count": 171,
     "metadata": {},
     "output_type": "execute_result"
    }
   ],
   "source": [
    "car3 = {\"brand\": \"VW\",\n",
    "        \"model\": \"ID.4\",\n",
    "        \"fueltype\": \"ELECTRIC\",\n",
    "        \"year\": 2019,\n",
    "        \"year\": 2021,\n",
    "        \"colors\": [\"yellow\", \"black\", \"purple\"]}\n",
    "\n",
    "print(car3)\n",
    "type(car3)"
   ]
  },
  {
   "cell_type": "code",
   "execution_count": null,
   "metadata": {},
   "outputs": [],
   "source": []
  },
  {
   "cell_type": "markdown",
   "metadata": {},
   "source": [
    "All items (key value-pairs) are removed from the dictionary by dict.clear() and a single key value pair can be removed by del  key of the pair, which shall be removed."
   ]
  },
  {
   "cell_type": "code",
   "execution_count": 172,
   "metadata": {},
   "outputs": [
    {
     "name": "stdout",
     "output_type": "stream",
     "text": [
      "{'brand': 'VW', 'model': 'ID.4', 'fueltype': 'ELECTRIC', 'year': 2021, 'colors': ['yellow', 'black', 'purple']}\n",
      "5\n",
      "colors deleted\n",
      "{'brand': 'VW', 'model': 'ID.4', 'fueltype': 'ELECTRIC', 'year': 2021}\n",
      "4\n"
     ]
    }
   ],
   "source": [
    "print(car3)\n",
    "print(len(car3))\n",
    "del car3['colors']\n",
    "print(\"colors deleted\")\n",
    "print(car3)\n",
    "print(len(car3))"
   ]
  },
  {
   "cell_type": "code",
   "execution_count": null,
   "metadata": {},
   "outputs": [],
   "source": []
  },
  {
   "cell_type": "markdown",
   "metadata": {},
   "source": [
    "A list of all methods for dictionaries is available at the official Python documentation (https://docs.python.org/3.8/library/stdtypes.html#mapping-types-dict)"
   ]
  },
  {
   "cell_type": "code",
   "execution_count": null,
   "metadata": {},
   "outputs": [],
   "source": []
  },
  {
   "cell_type": "markdown",
   "metadata": {},
   "source": [
    "## Save dictionaries persistently"
   ]
  },
  {
   "cell_type": "markdown",
   "metadata": {},
   "source": [
    "For dictionaries, which shall be saved persistently and later be loaded into a program again, the .json file-format is suitable."
   ]
  },
  {
   "cell_type": "code",
   "execution_count": 181,
   "metadata": {},
   "outputs": [
    {
     "name": "stdout",
     "output_type": "stream",
     "text": [
      "{'brand': 'VW', 'model': 'ID.4', 'fueltype': 'ELECTRIC', 'year': 2021}\n"
     ]
    }
   ],
   "source": [
    "print(car3)"
   ]
  },
  {
   "cell_type": "code",
   "execution_count": null,
   "metadata": {},
   "outputs": [],
   "source": []
  },
  {
   "cell_type": "markdown",
   "metadata": {},
   "source": [
    "### Write dictionary to json file"
   ]
  },
  {
   "cell_type": "code",
   "execution_count": 182,
   "metadata": {},
   "outputs": [],
   "source": [
    "import json\n",
    "with open(\"03_carFile.json\",\"w\") as f:\n",
    "    json.dump(car3,f)"
   ]
  },
  {
   "cell_type": "code",
   "execution_count": null,
   "metadata": {},
   "outputs": [],
   "source": []
  },
  {
   "cell_type": "markdown",
   "metadata": {},
   "source": [
    "### Read dictionary from .json file"
   ]
  },
  {
   "cell_type": "code",
   "execution_count": 176,
   "metadata": {},
   "outputs": [
    {
     "name": "stdout",
     "output_type": "stream",
     "text": [
      "{'brand': 'VW', 'model': 'ID.4', 'fueltype': 'ELECTRIC', 'year': 2021}\n"
     ]
    }
   ],
   "source": [
    "with open(\"03_carFile.json\",\"r\") as f:\n",
    "    mycar=json.load(f)\n",
    "print(mycar)"
   ]
  },
  {
   "cell_type": "code",
   "execution_count": null,
   "metadata": {},
   "outputs": [],
   "source": []
  }
 ],
 "metadata": {
  "kernelspec": {
   "display_name": "Python 3",
   "language": "python",
   "name": "python3"
  },
  "language_info": {
   "codemirror_mode": {
    "name": "ipython",
    "version": 3
   },
   "file_extension": ".py",
   "mimetype": "text/x-python",
   "name": "python",
   "nbconvert_exporter": "python",
   "pygments_lexer": "ipython3",
   "version": "3.8.3"
  },
  "toc": {
   "base_numbering": 1,
   "nav_menu": {},
   "number_sections": true,
   "sideBar": true,
   "skip_h1_title": false,
   "title_cell": "Table of Contents",
   "title_sidebar": "Contents",
   "toc_cell": false,
   "toc_position": {},
   "toc_section_display": true,
   "toc_window_display": false
  }
 },
 "nbformat": 4,
 "nbformat_minor": 4
}
